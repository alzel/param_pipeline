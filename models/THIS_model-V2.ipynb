{
 "cells": [
  {
   "cell_type": "code",
   "execution_count": null,
   "metadata": {},
   "outputs": [],
   "source": [
    "# Updates\n",
    "# clean up custom function definitions\n",
    "# make model loadable from other file"
   ]
  },
  {
   "cell_type": "code",
   "execution_count": 1,
   "metadata": {},
   "outputs": [
    {
     "name": "stderr",
     "output_type": "stream",
     "text": [
      "Using TensorFlow backend.\n"
     ]
    }
   ],
   "source": [
    "## LIBRARIES\n",
    "import numpy as np\n",
    "import pandas as pd\n",
    "import tensorflow as tf\n",
    "import matplotlib.pyplot as plt\n",
    "from keras.models import Model, load_model, Sequential\n",
    "from keras.layers import Conv1D,MaxPooling1D,LSTM,BatchNormalization,Dropout,Input,Dense,Bidirectional,Activation,Flatten\n",
    "from keras.optimizers import Adam\n",
    "from keras.utils import to_categorical\n",
    "from keras.backend import squeeze\n",
    "from keras.callbacks import ModelCheckpoint, TensorBoard, CSVLogger\n",
    "from scipy import stats"
   ]
  },
  {
   "cell_type": "code",
   "execution_count": 2,
   "metadata": {},
   "outputs": [],
   "source": [
    "# define custom metrics\n",
    "\n",
    "def coeff_determination(y_true, y_pred):\n",
    "    from keras import backend as K\n",
    "    SS_res =  K.sum(K.square(y_true-y_pred))\n",
    "    SS_tot = K.sum(K.square(y_true-K.mean(y_true)))\n",
    "    return (1-SS_res/(SS_tot+K.epsilon()))\n",
    "\n",
    "def correlation_coefficient(y_true, y_pred):\n",
    "    pearson_r, update_op = tf.contrib.metrics.streaming_pearson_correlation(y_pred, y_true, name='pearson_r')\n",
    "    # find all variables created for this metric\n",
    "    metric_vars = [i for i in tf.local_variables() if 'pearson_r'  in i.name.split('/')]\n",
    "\n",
    "    # Add metric variables to GLOBAL_VARIABLES collection.\n",
    "    # They will be initialized for new session.\n",
    "    for v in metric_vars:\n",
    "        tf.add_to_collection(tf.GraphKeys.GLOBAL_VARIABLES, v)\n",
    "\n",
    "    # force to update metric values\n",
    "    with tf.control_dependencies([update_op]):\n",
    "        pearson_r = tf.identity(pearson_r)\n",
    "        return pearson_r*abs(pearson_r)\n",
    "    "
   ]
  },
  {
   "cell_type": "code",
   "execution_count": 3,
   "metadata": {},
   "outputs": [],
   "source": [
    "# evaluations on test data \n",
    "\n",
    "def eval_on_test(X_test, Y_test, model, fname):\n",
    "    loss = model.evaluate(X_test, Y_test)\n",
    "    Y_pred = model.predict(X_test)\n",
    "    slope, intercept, rvalue, pvalue, stderr = stats.linregress(Y_test[:,0], Y_pred[:,0])\n",
    "    x = Y_test\n",
    "    y = Y_pred\n",
    "    plt.figure(0)\n",
    "    plt.plot(x, y, 'o', label='original data')\n",
    "    plt.plot(x, intercept + slope*x, 'r', label='fitted line')\n",
    "    plt.legend()\n",
    "    plt.title('R2 = {}'.format(rvalue*abs(rvalue)))\n",
    "    plt.xlabel('Y_true')\n",
    "    plt.ylabel('Y_pred')\n",
    "    plt.savefig(fname+'.pdf', bbox_inches='tight')\n",
    "    plt.close()\n",
    "    return loss, rvalue*abs(rvalue)\n"
   ]
  },
  {
   "cell_type": "code",
   "execution_count": 4,
   "metadata": {},
   "outputs": [],
   "source": [
    "#checks if running notebook or standalone python script\n",
    "def is_interactive():\n",
    "    import __main__ as main\n",
    "    return not hasattr(main, '__file__')\n",
    "\n",
    "import configparser\n",
    "import sys\n",
    "args = (sys.argv)\n",
    "\n",
    "model_name = \"THIS_model\"\n",
    "DROPOUT = 0   # dropout\n",
    "ALPHA = 0.01 # learnrate\n",
    "BETA = 0.01\n",
    "EPOCHS = 2 # epochs\n",
    "MBATCH = 100 # batch size\n",
    "\n",
    "#loading from config \n",
    "if not is_interactive():\n",
    "    config_file = args[1]\n",
    "    config = configparser.ConfigParser()\n",
    "    config.read(config_file)\n",
    "    ALPHA = config.getfloat('main', 'alpha')\n",
    "    DROPOUT = config.getfloat('main', 'dropout')\n",
    "    EPOCHS = config.getint('main', 'epochs')\n",
    "    MBATCH = config.getint('main', 'mbatch')\n",
    "    BETA = config.getfloat('main', 'beta')\n"
   ]
  },
  {
   "cell_type": "code",
   "execution_count": 5,
   "metadata": {},
   "outputs": [],
   "source": [
    "exec('from ' + model_name + '_input import *')"
   ]
  },
  {
   "cell_type": "code",
   "execution_count": 6,
   "metadata": {},
   "outputs": [],
   "source": [
    "# Load data\n",
    "\n",
    "data_path = \"../data/THIS_data.npz\"\n",
    "if not is_interactive():\n",
    "    data_path = \"./data/THIS_data.npz\"\n",
    "    \n",
    "Xh_train,Xh_test,Xv_train,Xv_test,Y_train,Y_test = load_data(data_path)\n",
    "\n",
    "X_train = list()\n",
    "X_train.append(Xh_train)\n",
    "#X_train.append(Xv_train)\n",
    "\n",
    "X_test = list()\n",
    "X_test.append(Xh_test)\n",
    "#X_test.append(Xv_test)\n",
    "\n"
   ]
  },
  {
   "cell_type": "code",
   "execution_count": 7,
   "metadata": {},
   "outputs": [],
   "source": [
    "# should go to model definition\n",
    "if is_interactive():\n",
    "    def POC_model(input_shape_hot,DR):\n",
    "\n",
    "        X_input1 = Input(shape = input_shape_hot)\n",
    "\n",
    "        # L 1: CONV \n",
    "        X1 = Conv1D(filters=128, kernel_size=30, strides=1, activation='relu')(X_input1) # 620/1 + 1 = 621\n",
    "        X1 = BatchNormalization()(X1)\n",
    "        X1 = Dropout(DR)(X1)\n",
    "\n",
    "        X1 = Flatten()(X1)\n",
    "\n",
    "        X = Dense(64, activation='relu')(X1)\n",
    "        X = BatchNormalization()(X)\n",
    "        X = Dropout(DR)(X) \n",
    "\n",
    "        X = Dense(1)(X)\n",
    "\n",
    "        model = Model(inputs = [X_input1], outputs = X)\n",
    "\n",
    "        return model\n",
    "\n"
   ]
  },
  {
   "cell_type": "code",
   "execution_count": 8,
   "metadata": {},
   "outputs": [
    {
     "name": "stdout",
     "output_type": "stream",
     "text": [
      "_________________________________________________________________\n",
      "Layer (type)                 Output Shape              Param #   \n",
      "=================================================================\n",
      "input_1 (InputLayer)         (None, 650, 4)            0         \n",
      "_________________________________________________________________\n",
      "conv1d_1 (Conv1D)            (None, 621, 128)          15488     \n",
      "_________________________________________________________________\n",
      "batch_normalization_1 (Batch (None, 621, 128)          512       \n",
      "_________________________________________________________________\n",
      "dropout_1 (Dropout)          (None, 621, 128)          0         \n",
      "_________________________________________________________________\n",
      "flatten_1 (Flatten)          (None, 79488)             0         \n",
      "_________________________________________________________________\n",
      "dense_1 (Dense)              (None, 64)                5087296   \n",
      "_________________________________________________________________\n",
      "batch_normalization_2 (Batch (None, 64)                256       \n",
      "_________________________________________________________________\n",
      "dropout_2 (Dropout)          (None, 64)                0         \n",
      "_________________________________________________________________\n",
      "dense_2 (Dense)              (None, 1)                 65        \n",
      "=================================================================\n",
      "Total params: 5,103,617\n",
      "Trainable params: 5,103,233\n",
      "Non-trainable params: 384\n",
      "_________________________________________________________________\n"
     ]
    }
   ],
   "source": [
    "input_shape = Xh_train.shape[1:3]\n",
    "model = POC_model(input_shape,DROPOUT)\n",
    "model.summary()"
   ]
  },
  {
   "cell_type": "code",
   "execution_count": 9,
   "metadata": {},
   "outputs": [],
   "source": [
    "from keras import backend as K\n",
    "def coeff_determination(y_true, y_pred):\n",
    "    SS_res =  K.sum(K.square(y_true-y_pred))\n",
    "    SS_tot = K.sum(K.square(y_true-K.mean(y_true)))\n",
    "    return (1-SS_res/(SS_tot+K.epsilon()))\n",
    "\n",
    "import tensorflow as tf\n",
    "\n",
    "def correlation_coefficient(y_true, y_pred):\n",
    "    pearson_r, update_op = tf.contrib.metrics.streaming_pearson_correlation(y_pred, y_true, name='pearson_r')\n",
    "    # find all variables created for this metric\n",
    "    metric_vars = [i for i in tf.local_variables() if 'pearson_r'  in i.name.split('/')]\n",
    "\n",
    "    # Add metric variables to GLOBAL_VARIABLES collection.\n",
    "    # They will be initialized for new session.\n",
    "    for v in metric_vars:\n",
    "        tf.add_to_collection(tf.GraphKeys.GLOBAL_VARIABLES, v)\n",
    "\n",
    "    # force to update metric values\n",
    "    with tf.control_dependencies([update_op]):\n",
    "        pearson_r = tf.identity(pearson_r)\n",
    "        return pearson_r*abs(pearson_r)\n",
    "\n"
   ]
  },
  {
   "cell_type": "code",
   "execution_count": 10,
   "metadata": {},
   "outputs": [],
   "source": [
    "opt = Adam(lr=ALPHA, beta_1=0.9, beta_2=0.999, decay=BETA)\n",
    "model.compile(loss='mse', optimizer=opt, metrics=[coeff_determination, correlation_coefficient, 'mse'])"
   ]
  },
  {
   "cell_type": "code",
   "execution_count": 11,
   "metadata": {},
   "outputs": [],
   "source": [
    "# Set callbacks\n",
    "# checkpoint\n",
    "# https://machinelearningmastery.com/check-point-deep-learning-models-keras/\n",
    "# https://keras.io/callbacks/ - for now save every epoch\n",
    "suffix = \"{epoch:03d}-{val_loss:.3f}.hdf5\"\n",
    "filepath = \"{}.{}\".format(model_name, suffix)\n",
    "if not is_interactive():\n",
    "    model_name = args[2]\n",
    "\n",
    "    filepath = \"{}.{}\".format(model_name, suffix)\n",
    "\n",
    "checkpoint = ModelCheckpoint(filepath, monitor='val_loss', verbose=0, \n",
    "                             save_best_only=False, save_weights_only=False, mode='auto', period=1)\n",
    "\n",
    "# tensorboard\n",
    "# http://fizzylogic.nl/2017/05/08/monitor-progress-of-your-keras-based-neural-network-using-tensorboard/\n",
    "\n",
    "tensorboard = TensorBoard(log_dir='./tensorboard_logs/' + args[3])\n",
    "\n",
    "csv_logger_filename = model_name + \"val_results.csv\"\n",
    "if not is_interactive():\n",
    "    csv_logger_filename = args[3]\n",
    "csv = CSVLogger(csv_logger_filename, separator = \",\", append = True)\n",
    "\n",
    "callbacks_list = [checkpoint, tensorboard, csv]\n",
    "\n",
    "# in terminal run: tensorboard --logdir=logs/\n",
    "# val_loss error is in callbacks, probably modelcheckpoint"
   ]
  },
  {
   "cell_type": "code",
   "execution_count": 12,
   "metadata": {},
   "outputs": [
    {
     "name": "stdout",
     "output_type": "stream",
     "text": [
      "Loading weights from THIS_model.001-0.699.hdf5\n",
      "Train on 3605 samples, validate on 401 samples\n",
      "Epoch 1/2\n",
      "3605/3605 [==============================] - 26s 7ms/step - loss: 0.5589 - coeff_determination: 0.2984 - correlation_coefficient: 0.3906 - mean_squared_error: 0.5589 - val_loss: 1.0133 - val_coeff_determination: -6250.6634 - val_correlation_coefficient: 0.3468 - val_mean_squared_error: 1.0133\n",
      "Epoch 2/2\n",
      "3605/3605 [==============================] - 26s 7ms/step - loss: 0.2955 - coeff_determination: 0.6244 - correlation_coefficient: 0.4098 - mean_squared_error: 0.2955 - val_loss: 0.7988 - val_coeff_determination: -585.7888 - val_correlation_coefficient: 0.4535 - val_mean_squared_error: 0.7988\n"
     ]
    },
    {
     "data": {
      "text/plain": [
       "<keras.callbacks.History at 0x1c1eac9eb8>"
      ]
     },
     "execution_count": 12,
     "metadata": {},
     "output_type": "execute_result"
    }
   ],
   "source": [
    "#checking if model exist then load best\n",
    "import glob\n",
    "import re\n",
    "\n",
    "def find_best_model(all_models):\n",
    "        epochs = []\n",
    "        losses = []\n",
    "        for i, file in enumerate(all_models):\n",
    "            groups = re.findall(model_name+'.(.*)-(.*).hdf5', file)\n",
    "            if groups:\n",
    "                epochs.append(int(groups[0][0]))\n",
    "                losses.append(float(groups[0][1]))\n",
    "        return (all_models[np.argmin(losses)] )\n",
    "\n",
    "all_models = glob.glob(model_name+'*.hdf5')\n",
    "\n",
    "if all_models:\n",
    "    best_model = find_best_model(all_models)\n",
    "    print(\"Loading weights from {}\".format(best_model))\n",
    "    model.load_weights(best_model)\n",
    "\n",
    "\n",
    "model.fit(X_train, Y_train, batch_size=MBATCH, epochs=EPOCHS, validation_split=0.1, shuffle=False, callbacks=callbacks_list)\n",
    "# keras model checkpoint KeyError: 'val_loss'\n",
    "# fix: https://github.com/keras-team/keras/issues/6104\n",
    "# must add validation_split=xx"
   ]
  },
  {
   "cell_type": "code",
   "execution_count": 46,
   "metadata": {},
   "outputs": [
    {
     "name": "stdout",
     "output_type": "stream",
     "text": [
      "446/446 [==============================] - 1s 3ms/step\n"
     ]
    }
   ],
   "source": [
    "# tests data on test set\n",
    "# need input fname for output saving\n",
    "test_loss, test_r2 = eval_on_test(X_test, Y_test, model, model_name)\n"
   ]
  },
  {
   "cell_type": "code",
   "execution_count": 48,
   "metadata": {},
   "outputs": [],
   "source": [
    "# Save test results\n",
    "\n",
    "d = {'coeff_determination' : [test_loss[1]], \n",
    "     'correlation_coefficient' : [test_loss[2]],\n",
    "     'loss' : [test_loss[3]],\n",
    "     'mean_squared_error' : [test_loss[0]],\n",
    "     'R2_scipy_stats' : [test_r2]}\n",
    "\n",
    "test_df = pd.DataFrame(data=d)\n",
    "\n",
    "test_results_filename = model_name + \"_test_results.csv\"\n",
    "if not is_interactive():\n",
    "    test_results_filename = args[3] + \"_testset\"\n",
    "    \n",
    "test_df.to_csv(test_results_filename)"
   ]
  },
  {
   "cell_type": "code",
   "execution_count": null,
   "metadata": {},
   "outputs": [],
   "source": []
  }
 ],
 "metadata": {
  "kernelspec": {
   "display_name": "Python 3",
   "language": "python",
   "name": "python3"
  },
  "language_info": {
   "codemirror_mode": {
    "name": "ipython",
    "version": 3
   },
   "file_extension": ".py",
   "mimetype": "text/x-python",
   "name": "python",
   "nbconvert_exporter": "python",
   "pygments_lexer": "ipython3",
   "version": "3.6.3"
  }
 },
 "nbformat": 4,
 "nbformat_minor": 2
}
