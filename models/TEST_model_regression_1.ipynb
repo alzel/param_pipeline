{
 "cells": [
  {
   "cell_type": "code",
   "execution_count": null,
   "metadata": {},
   "outputs": [],
   "source": [
    "# should go to model definition\n",
    "import numpy as np\n",
    "from keras.models import Model, Sequential\n",
    "from keras.layers import Conv1D,MaxPooling1D,LSTM,BatchNormalization,Dropout,Input,Dense,Bidirectional,Flatten,Concatenate\n",
    "np.random.seed(1337)  # for reproducibility\n",
    "\n",
    "def load_data(fname):\n",
    "    # create some data\n",
    "    X = np.linspace(-1, 1, 200)\n",
    "    np.random.shuffle(X)    # randomize the data\n",
    "    Y = 0.5 * X + 2 + np.random.normal(0, 0.05, (200, ))\n",
    "    \n",
    "    # plot data\n",
    "    # plt.scatter(X, Y)\n",
    "    # plt.show()\n",
    "\n",
    "    X_train = list()\n",
    "    X_test = list()\n",
    "    \n",
    "    # train test split\n",
    "    X_train.append(X[:160])\n",
    "    Y_train = Y[:160]     \n",
    "    X_test.append(X[160:]) \n",
    "    Y_test = Y[160:].reshape((-1,1))   \n",
    "    \n",
    "    return X_train, X_test, Y_train, Y_test\n",
    "\n",
    "def POC_model(input_shape_hot,DR):\n",
    "\n",
    "    model = Sequential()\n",
    "    model.add(Dense(output_dim=1, input_dim=1, use_bias=True))\n",
    "    \n",
    "    return model"
   ]
  }
 ],
 "metadata": {
  "kernelspec": {
   "display_name": "Python [default]",
   "language": "python",
   "name": "python3"
  },
  "language_info": {
   "codemirror_mode": {
    "name": "ipython",
    "version": 3
   },
   "file_extension": ".py",
   "mimetype": "text/x-python",
   "name": "python",
   "nbconvert_exporter": "python",
   "pygments_lexer": "ipython3",
   "version": "3.6.3"
  }
 },
 "nbformat": 4,
 "nbformat_minor": 2
}
