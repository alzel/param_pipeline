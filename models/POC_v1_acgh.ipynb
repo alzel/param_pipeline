{
 "cells": [
  {
   "cell_type": "code",
   "execution_count": null,
   "metadata": {},
   "outputs": [],
   "source": [
    "# should go to model definition\n",
    "import numpy as np\n",
    "from keras.models import Model\n",
    "from keras.layers import Conv1D,MaxPooling1D,LSTM,BatchNormalization,Dropout,Input,Dense,Bidirectional,Flatten,Concatenate\n",
    "\n",
    "def load_data(fname):\n",
    "    # X is multi-variable array\n",
    "    # Y contains single variable - fix shape for Keras\n",
    "    \n",
    "    npzfile = np.load(fname)\n",
    "    Xh_train = npzfile['arr_0']\n",
    "    Xh_test = npzfile['arr_1']\n",
    "    Xv_train = npzfile['arr_2']\n",
    "    Xv_test = npzfile['arr_3']\n",
    "    Y_train = npzfile['arr_4']\n",
    "    Y_test = npzfile['arr_5']\n",
    "    \n",
    "    X_train = list()\n",
    "    X_train.append(Xh_train)\n",
    "    #X_train.append(Xv_train)\n",
    "    X_test = list()\n",
    "    X_test.append(Xh_test)\n",
    "    #X_test.append(Xv_test)\n",
    "    \n",
    "    Y_train = Y_train.astype(np.float32).reshape((-1,1))\n",
    "    Y_test = Y_test.astype(np.float32).reshape((-1,1))\n",
    "\n",
    "    return X_train, X_test, Y_train, Y_test\n",
    "\n",
    "def POC_model(input_shape_hot,DR):\n",
    "\n",
    "    X_input1 = Input(shape = input_shape_hot)\n",
    "    \n",
    "    # L 1: CONV \n",
    "    X1 = Conv1D(filters=128, kernel_size=30, strides=1, activation='relu')(X_input1) # 620/1 + 1 = 621\n",
    "    X1 = BatchNormalization()(X1)\n",
    "    X1 = Dropout(DR)(X1)\n",
    "    \n",
    "    X1 = Flatten()(X1)\n",
    "    \n",
    "    X = Dense(64, activation='relu')(X1)\n",
    "    X = BatchNormalization()(X)\n",
    "    X = Dropout(DR)(X) \n",
    "\n",
    "    X = Dense(1)(X)\n",
    "\n",
    "    model = Model(inputs = [X_input1], outputs = X)\n",
    "    \n",
    "    return model"
   ]
  }
 ],
 "metadata": {
  "kernelspec": {
   "display_name": "Python 3",
   "language": "python",
   "name": "python3"
  },
  "language_info": {
   "codemirror_mode": {
    "name": "ipython",
    "version": 3
   },
   "file_extension": ".py",
   "mimetype": "text/x-python",
   "name": "python",
   "nbconvert_exporter": "python",
   "pygments_lexer": "ipython3",
   "version": "3.6.3"
  }
 },
 "nbformat": 4,
 "nbformat_minor": 2
}
