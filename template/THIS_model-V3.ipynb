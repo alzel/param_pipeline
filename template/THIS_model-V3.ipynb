{
 "cells": [
  {
   "cell_type": "code",
   "execution_count": 1,
   "metadata": {},
   "outputs": [],
   "source": [
    "# V2 Updates\n",
    "# clean up custom function definitions\n",
    "# make model loadable from other file"
   ]
  },
  {
   "cell_type": "code",
   "execution_count": 2,
   "metadata": {},
   "outputs": [
    {
     "name": "stderr",
     "output_type": "stream",
     "text": [
      "/Users/alezel/anaconda2/envs/tensorflow36/lib/python3.6/site-packages/h5py/__init__.py:36: FutureWarning: Conversion of the second argument of issubdtype from `float` to `np.floating` is deprecated. In future, it will be treated as `np.float64 == np.dtype(float).type`.\n",
      "  from ._conv import register_converters as _register_converters\n",
      "Using TensorFlow backend.\n"
     ]
    }
   ],
   "source": [
    "## LIBRARIES\n",
    "import numpy as np\n",
    "import pandas as pd\n",
    "import tensorflow as tf\n",
    "import matplotlib.pyplot as plt\n",
    "from keras.models import Model, load_model, Sequential\n",
    "from keras.layers import Conv1D,MaxPooling1D,LSTM,BatchNormalization,Dropout,Input,Dense,Bidirectional,Activation,Flatten\n",
    "from keras.optimizers import Adam\n",
    "from keras.utils import to_categorical\n",
    "from keras.backend import squeeze\n",
    "from keras.callbacks import ModelCheckpoint, TensorBoard, CSVLogger\n",
    "from scipy import stats\n",
    "\n",
    "import random \n",
    "random.seed(123)"
   ]
  },
  {
   "cell_type": "code",
   "execution_count": 3,
   "metadata": {},
   "outputs": [],
   "source": [
    "#to display train and validation metrics on same tensorboard plot\n",
    "class TrainValTensorBoard(TensorBoard):\n",
    "    def __init__(self, log_dir='./tensorboard_logs', **kwargs):\n",
    "        # Make the original `TensorBoard` log to a subdirectory 'training'\n",
    "        training_log_dir = os.path.join(log_dir, 'training')\n",
    "        super(TrainValTensorBoard, self).__init__(training_log_dir, **kwargs)\n",
    "\n",
    "        # Log the validation metrics to a separate subdirectory\n",
    "        self.val_log_dir = os.path.join(log_dir, 'validation')\n",
    "\n",
    "    def set_model(self, model):\n",
    "        # Setup writer for validation metrics\n",
    "        self.val_writer = tf.summary.FileWriter(self.val_log_dir)\n",
    "        super(TrainValTensorBoard, self).set_model(model)\n",
    "\n",
    "    def on_epoch_end(self, epoch, logs=None):\n",
    "        # Pop the validation logs and handle them separately with\n",
    "        # `self.val_writer`. Also rename the keys so that they can\n",
    "        # be plotted on the same figure with the training metrics\n",
    "        logs = logs or {}\n",
    "        val_logs = {k.replace('val_', ''): v for k, v in logs.items() if k.startswith('val_')}\n",
    "        for name, value in val_logs.items():\n",
    "            summary = tf.Summary()\n",
    "            summary_value = summary.value.add()\n",
    "            summary_value.simple_value = value.item()\n",
    "            summary_value.tag = name\n",
    "            self.val_writer.add_summary(summary, epoch)\n",
    "        self.val_writer.flush()\n",
    "\n",
    "        # Pass the remaining logs to `TensorBoard.on_epoch_end`\n",
    "        logs = {k: v for k, v in logs.items() if not k.startswith('val_')}\n",
    "        super(TrainValTensorBoard, self).on_epoch_end(epoch, logs)\n",
    "\n",
    "    def on_train_end(self, logs=None):\n",
    "        super(TrainValTensorBoard, self).on_train_end(logs)\n",
    "        self.val_writer.close()"
   ]
  },
  {
   "cell_type": "code",
   "execution_count": 4,
   "metadata": {},
   "outputs": [],
   "source": [
    "# define custom metrics\n",
    "def coeff_determination(y_true, y_pred):\n",
    "    from keras import backend as K\n",
    "    SS_res =  K.sum(K.square(y_true-y_pred))\n",
    "    SS_tot = K.sum(K.square(y_true-K.mean(y_true)))\n",
    "    return (1-SS_res/(SS_tot+K.epsilon()))\n",
    "\n",
    "def correlation_coefficient(y_true, y_pred):\n",
    "    pearson_r, update_op = tf.contrib.metrics.streaming_pearson_correlation(y_pred, y_true, name='pearson_r')\n",
    "    # find all variables created for this metric\n",
    "    metric_vars = [i for i in tf.local_variables() if 'pearson_r'  in i.name.split('/')]\n",
    "\n",
    "    # Add metric variables to GLOBAL_VARIABLES collection.\n",
    "    # They will be initialized for new session.\n",
    "    for v in metric_vars:\n",
    "        tf.add_to_collection(tf.GraphKeys.GLOBAL_VARIABLES, v)\n",
    "\n",
    "    # force to update metric values\n",
    "    with tf.control_dependencies([update_op]):\n",
    "        pearson_r = tf.identity(pearson_r)\n",
    "        return pearson_r*abs(pearson_r)\n",
    "    "
   ]
  },
  {
   "cell_type": "code",
   "execution_count": 5,
   "metadata": {},
   "outputs": [],
   "source": [
    "# evaluations on test data \n",
    "def eval_on_test(X_test, Y_test, model, fname):\n",
    "    loss = model.evaluate(X_test, Y_test)\n",
    "    Y_pred = model.predict(X_test)\n",
    "    slope, intercept, rvalue, pvalue, stderr = stats.linregress(Y_test[:,0], Y_pred[:,0])\n",
    "    x = Y_pred\n",
    "    y = Y_test\n",
    "    if fname:\n",
    "        plt.plot(x, y, 'o', label='original data')\n",
    "        plt.plot(x, intercept + slope*x, 'r', label='fitted line')\n",
    "        plt.legend()\n",
    "        plt.title('R2 = {}'.format(rvalue*abs(rvalue)))\n",
    "        plt.xlabel('Y_pred')\n",
    "        plt.ylabel('Y_true')\n",
    "        plt.savefig(fname+'.pdf', bbox_inches='tight')\n",
    "    return loss, rvalue*abs(rvalue)\n"
   ]
  },
  {
   "cell_type": "code",
   "execution_count": 6,
   "metadata": {},
   "outputs": [],
   "source": [
    "import os\n",
    "def is_interactive():\n",
    "    import __main__ as main\n",
    "    return not hasattr(main, '__file__')\n",
    "\n",
    "#setting default path if interactive mode (run this cell only ONCE if in interactive mode)\n",
    "if is_interactive():\n",
    "    os.chdir(\"../\")\n",
    "    "
   ]
  },
  {
   "cell_type": "code",
   "execution_count": 7,
   "metadata": {},
   "outputs": [],
   "source": [
    "import configparser\n",
    "import sys\n",
    "from os.path import basename\n",
    "\n",
    "#change only THESE\n",
    "model_path = \"./models/THIS_CNN_NN_vals_input.py\"\n",
    "data_path = \"./data/THIS_data.npz\"\n",
    "\n",
    "\n",
    "weights_dir = \"./weights\"\n",
    "results_dir = \"./results\"\n",
    "model_name = os.path.splitext(basename(model_path))[0]\n",
    "weight_path = os.path.join(weights_dir, model_name)\n",
    "csv_logger_path = os.path.join(results_dir, model_name + \"_val_results.csv\")\n",
    "test_results_path = os.path.join(results_dir, model_name + \"_test_results.csv\")\n",
    "\n",
    "for filename in [weight_path, csv_logger_path, test_results_path]:\n",
    "    os.makedirs(os.path.dirname(filename), exist_ok=True)\n",
    "    \n",
    "args = (sys.argv)\n",
    "config_path = \"\"\n",
    "if not is_interactive():\n",
    "    model_path = args[1]\n",
    "    config_path = args[2]\n",
    "    weight_path = args[3]\n",
    "    csv_logger_path = args[4]\n",
    "    test_results_path = args[4] + \"_testset\"\n",
    "    data_path = args[5]\n",
    "\n",
    "suffix = \"{epoch:03d}-{val_loss:.3f}.hdf5\"\n",
    "weight_model_path = \"{}.{}\".format(weight_path, suffix)\n",
    "\n",
    "\n",
    "#hyperparameters    \n",
    "DROPOUT = 0   # dropout\n",
    "ALPHA = 0.01 # learnrate\n",
    "BETA = 0.01\n",
    "EPOCHS = 2 # epochs\n",
    "MBATCH = 100 # batch size\n",
    "SHUFFLE = True\n",
    "\n",
    "#loading from config \n",
    "if not is_interactive():\n",
    "    config_file = args[2]\n",
    "    config = configparser.ConfigParser()\n",
    "    config.read(config_file)\n",
    "    ALPHA = config.getfloat('main', 'alpha')\n",
    "    DROPOUT = config.getfloat('main', 'dropout')\n",
    "    EPOCHS = config.getint('main', 'epochs')\n",
    "    MBATCH = config.getint('main', 'mbatch')\n",
    "    BETA = config.getfloat('main', 'beta')\n",
    "    SHUFFLE = config.getboolean('main', 'SHUFFLE')\n",
    "\n",
    "#loading model difinitions    \n",
    "model_file = open(model_path, 'r').read()\n",
    "exec(model_file)"
   ]
  },
  {
   "cell_type": "code",
   "execution_count": 8,
   "metadata": {},
   "outputs": [],
   "source": [
    "#loading data\n",
    "X_train, X_test, Y_train, Y_test = load_data(data_path)\n"
   ]
  },
  {
   "cell_type": "code",
   "execution_count": 9,
   "metadata": {},
   "outputs": [
    {
     "name": "stdout",
     "output_type": "stream",
     "text": [
      "Loading model from disk..\n",
      "__________________________________________________________________________________________________\n",
      "Layer (type)                    Output Shape         Param #     Connected to                     \n",
      "==================================================================================================\n",
      "input_2 (InputLayer)            (None, 650, 4)       0                                            \n",
      "__________________________________________________________________________________________________\n",
      "conv1d_6 (Conv1D)               (None, 641, 128)     5248        input_2[0][0]                    \n",
      "__________________________________________________________________________________________________\n",
      "batch_normalization_7 (BatchNor (None, 641, 128)     512         conv1d_6[0][0]                   \n",
      "__________________________________________________________________________________________________\n",
      "dropout_7 (Dropout)             (None, 641, 128)     0           batch_normalization_7[0][0]      \n",
      "__________________________________________________________________________________________________\n",
      "max_pooling1d_6 (MaxPooling1D)  (None, 160, 128)     0           dropout_7[0][0]                  \n",
      "__________________________________________________________________________________________________\n",
      "flatten_2 (Flatten)             (None, 20480)        0           max_pooling1d_6[0][0]            \n",
      "__________________________________________________________________________________________________\n",
      "input_3 (InputLayer)            (None, 69)           0                                            \n",
      "__________________________________________________________________________________________________\n",
      "concatenate_1 (Concatenate)     (None, 20549)        0           flatten_2[0][0]                  \n",
      "                                                                 input_3[0][0]                    \n",
      "__________________________________________________________________________________________________\n",
      "dense_3 (Dense)                 (None, 64)           1315200     concatenate_1[0][0]              \n",
      "__________________________________________________________________________________________________\n",
      "batch_normalization_8 (BatchNor (None, 64)           256         dense_3[0][0]                    \n",
      "__________________________________________________________________________________________________\n",
      "dropout_8 (Dropout)             (None, 64)           0           batch_normalization_8[0][0]      \n",
      "__________________________________________________________________________________________________\n",
      "dense_4 (Dense)                 (None, 1)            65          dropout_8[0][0]                  \n",
      "==================================================================================================\n",
      "Total params: 1,321,281\n",
      "Trainable params: 1,320,897\n",
      "Non-trainable params: 384\n",
      "__________________________________________________________________________________________________\n"
     ]
    }
   ],
   "source": [
    "input_shape = X_train[0].shape[1:3]\n",
    "model = POC_model(input_shape, DROPOUT)\n",
    "model.summary()\n"
   ]
  },
  {
   "cell_type": "code",
   "execution_count": 10,
   "metadata": {},
   "outputs": [],
   "source": [
    "opt = Adam(lr=ALPHA, beta_1=0.9, beta_2=0.999, decay=BETA)\n",
    "model.compile(loss='mse', optimizer=opt, metrics=[coeff_determination, correlation_coefficient, 'mse'])\n"
   ]
  },
  {
   "cell_type": "code",
   "execution_count": 11,
   "metadata": {},
   "outputs": [],
   "source": [
    "# Set callbacks\n",
    "# checkpoint\n",
    "# https://machinelearningmastery.com/check-point-deep-learning-models-keras/\n",
    "# https://keras.io/callbacks/ - for now save every epoch\n",
    "\n",
    "checkpoint = ModelCheckpoint(weight_model_path, monitor='val_loss', verbose=0, \n",
    "                             save_best_only=False, save_weights_only=False, mode='auto', period=1)\n",
    "\n",
    "# tensorboard\n",
    "# http://fizzylogic.nl/2017/05/08/monitor-progress-of-your-keras-based-neural-network-using-tensorboard/\n",
    "\n",
    "tensorboard = TrainValTensorBoard(write_graph=False, log_dir='./tensorboard_logs/' + \\\n",
    "                                  basename(data_path) + '_' + basename(csv_logger_path))\n",
    "\n",
    "csv = CSVLogger(csv_logger_path, separator = \",\", append = True)\n",
    "\n",
    "callbacks_list = [checkpoint, tensorboard, csv]\n",
    "\n",
    "# in terminal run: tensorboard --logdir=logs/\n",
    "# val_loss error is in callbacks, probably modelcheckpoint"
   ]
  },
  {
   "cell_type": "code",
   "execution_count": 12,
   "metadata": {},
   "outputs": [
    {
     "name": "stdout",
     "output_type": "stream",
     "text": [
      "Loading weights from ./weights/THIS_CNN_NN_vals_input.008-0.391.hdf5\n"
     ]
    }
   ],
   "source": [
    "#checking if model exist then load best\n",
    "import glob\n",
    "import re\n",
    "\n",
    "def find_best_model(all_models):\n",
    "        epochs = []\n",
    "        losses = []\n",
    "        for i, file in enumerate(all_models):\n",
    "            groups = re.findall(weight_path + '.(.*)-(.*).hdf5', file)\n",
    "            if groups:\n",
    "                epochs.append(int(groups[0][0]))\n",
    "                losses.append(float(groups[0][1]))\n",
    "        return (all_models[np.argmin(losses)] )\n",
    "\n",
    "all_models = [os.path.join(os.path.dirname(weight_path), f) \\\n",
    "              for f in os.listdir(os.path.dirname(weight_path)) \\\n",
    "              if re.match(os.path.basename(weight_path) + '\\.(.*)-(.*).hdf5', f)]\n",
    "\n",
    "\n",
    "if all_models:\n",
    "    best_model = find_best_model(all_models)\n",
    "    print(\"Loading weights from {}\".format(best_model))\n",
    "    model.load_weights(best_model)\n"
   ]
  },
  {
   "cell_type": "code",
   "execution_count": 13,
   "metadata": {},
   "outputs": [
    {
     "name": "stdout",
     "output_type": "stream",
     "text": [
      "WARNING:tensorflow:Variable *= will be deprecated. Use variable.assign_mul if you want assignment to the variable value or 'x = x * y' if you want a new python Tensor object.\n",
      "Train on 3605 samples, validate on 401 samples\n",
      "Epoch 1/2\n",
      "3605/3605 [==============================] - 8s 2ms/step - loss: 0.1648 - coeff_determination: 0.7908 - correlation_coefficient: nan - mean_squared_error: 0.1648 - val_loss: 0.4422 - val_coeff_determination: -5458.8088 - val_correlation_coefficient: 0.7853 - val_mean_squared_error: 0.4422\n",
      "Epoch 2/2\n",
      "3605/3605 [==============================] - 8s 2ms/step - loss: 0.1077 - coeff_determination: 0.8573 - correlation_coefficient: 0.7918 - mean_squared_error: 0.1077 - val_loss: 0.4421 - val_coeff_determination: -8158.0276 - val_correlation_coefficient: 0.8066 - val_mean_squared_error: 0.4421\n"
     ]
    },
    {
     "data": {
      "text/plain": [
       "<keras.callbacks.History at 0x10c082d30>"
      ]
     },
     "execution_count": 13,
     "metadata": {},
     "output_type": "execute_result"
    }
   ],
   "source": [
    "# keras model checkpoint KeyError: 'val_loss'\n",
    "# fix: https://github.com/keras-team/keras/issues/6104\n",
    "# must add validation_split=xx\n",
    "\n",
    "model.fit(X_train, Y_train, batch_size=MBATCH, epochs=EPOCHS, validation_split=0.1, shuffle=SHUFFLE, callbacks=callbacks_list)"
   ]
  },
  {
   "cell_type": "code",
   "execution_count": 14,
   "metadata": {},
   "outputs": [
    {
     "name": "stdout",
     "output_type": "stream",
     "text": [
      "446/446 [==============================] - 0s 690us/step\n"
     ]
    },
    {
     "data": {
      "image/png": "[encoded data removed]",
      "text/plain": [
       "<Figure size 432x288 with 1 Axes>"
      ]
     },
     "metadata": {},
     "output_type": "display_data"
    }
   ],
   "source": [
    "# tests data on test set \n",
    "test_loss, test_r2 = eval_on_test(X_test, Y_test, model, test_results_path)\n"
   ]
  },
  {
   "cell_type": "code",
   "execution_count": 15,
   "metadata": {},
   "outputs": [],
   "source": [
    "# Save test results\n",
    "d = {'coeff_determination' : [test_loss[1]], \n",
    "     'correlation_coefficient' : [test_loss[2]],\n",
    "     'loss' : [test_loss[3]],\n",
    "     'mean_squared_error' : [test_loss[0]],\n",
    "     'R2_scipy_stats' : [test_r2]}\n",
    "\n",
    "test_df = pd.DataFrame(data=d)\n",
    "test_df.to_csv(test_results_path, index=False)\n"
   ]
  }
 ],
 "metadata": {
  "kernelspec": {
   "display_name": "Python [default]",
   "language": "python",
   "name": "python3"
  },
  "language_info": {
   "codemirror_mode": {
    "name": "ipython",
    "version": 3
   },
   "file_extension": ".py",
   "mimetype": "text/x-python",
   "name": "python",
   "nbconvert_exporter": "python",
   "pygments_lexer": "ipython3",
   "version": "3.6.5"
  }
 },
 "nbformat": 4,
 "nbformat_minor": 2
}
