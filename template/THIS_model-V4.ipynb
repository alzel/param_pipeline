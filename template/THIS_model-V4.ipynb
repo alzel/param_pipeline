{
 "cells": [
  {
   "cell_type": "code",
   "execution_count": 1,
   "metadata": {},
   "outputs": [],
   "source": [
    "# V4 Updates\n",
    "# fixed functions for metrics"
   ]
  },
  {
   "cell_type": "code",
   "execution_count": 2,
   "metadata": {},
   "outputs": [
    {
     "name": "stderr",
     "output_type": "stream",
     "text": [
      "/Users/zrimec/anaconda3/lib/python3.6/site-packages/h5py/__init__.py:34: FutureWarning: Conversion of the second argument of issubdtype from `float` to `np.floating` is deprecated. In future, it will be treated as `np.float64 == np.dtype(float).type`.\n",
      "  from ._conv import register_converters as _register_converters\n",
      "Using TensorFlow backend.\n"
     ]
    }
   ],
   "source": [
    "def is_interactive():\n",
    "    import __main__ as main\n",
    "    return not hasattr(main, '__file__')\n",
    "\n",
    "## LIBRARIES\n",
    "import numpy as np\n",
    "import pandas as pd\n",
    "import tensorflow as tf\n",
    "from scipy import stats\n",
    "\n",
    "if is_interactive():\n",
    "    import matplotlib\n",
    "    import pylab as plt\n",
    "else:\n",
    "    import matplotlib\n",
    "    matplotlib.use('agg')\n",
    "    import pylab as plt\n",
    "    \n",
    "import keras.backend as K\n",
    "from keras.models import Model, load_model\n",
    "from keras.layers import Conv1D,MaxPooling1D,LSTM,BatchNormalization,Dropout,Input,Dense,Bidirectional,Activation,Flatten\n",
    "from keras.optimizers import Adam\n",
    "from keras.utils import to_categorical\n",
    "from keras.backend import squeeze\n",
    "from keras.callbacks import ModelCheckpoint, TensorBoard, CSVLogger\n",
    "from keras.metrics import mean_squared_error\n",
    "\n",
    "import random \n",
    "random.seed(123)"
   ]
  },
  {
   "cell_type": "code",
   "execution_count": 3,
   "metadata": {},
   "outputs": [],
   "source": [
    "#to display train and validation metrics on same tensorboard plot\n",
    "class TrainValTensorBoard(TensorBoard):\n",
    "    def __init__(self, log_dir='./tensorboard_logs', **kwargs):\n",
    "        # Make the original `TensorBoard` log to a subdirectory 'training'\n",
    "        training_log_dir = os.path.join(log_dir, 'training')\n",
    "        super(TrainValTensorBoard, self).__init__(training_log_dir, **kwargs)\n",
    "\n",
    "        # Log the validation metrics to a separate subdirectory\n",
    "        self.val_log_dir = os.path.join(log_dir, 'validation')\n",
    "\n",
    "    def set_model(self, model):\n",
    "        # Setup writer for validation metrics\n",
    "        self.val_writer = tf.summary.FileWriter(self.val_log_dir)\n",
    "        super(TrainValTensorBoard, self).set_model(model)\n",
    "\n",
    "    def on_epoch_end(self, epoch, logs=None):\n",
    "        # Pop the validation logs and handle them separately with\n",
    "        # `self.val_writer`. Also rename the keys so that they can\n",
    "        # be plotted on the same figure with the training metrics\n",
    "        logs = logs or {}\n",
    "        val_logs = {k.replace('val_', ''): v for k, v in logs.items() if k.startswith('val_')}\n",
    "        for name, value in val_logs.items():\n",
    "            summary = tf.Summary()\n",
    "            summary_value = summary.value.add()\n",
    "            summary_value.simple_value = value.item()\n",
    "            summary_value.tag = name\n",
    "            self.val_writer.add_summary(summary, epoch)\n",
    "        self.val_writer.flush()\n",
    "\n",
    "        # Pass the remaining logs to `TensorBoard.on_epoch_end`\n",
    "        logs = {k: v for k, v in logs.items() if not k.startswith('val_')}\n",
    "        super(TrainValTensorBoard, self).on_epoch_end(epoch, logs)\n",
    "\n",
    "    def on_train_end(self, logs=None):\n",
    "        super(TrainValTensorBoard, self).on_train_end(logs)\n",
    "        self.val_writer.close()"
   ]
  },
  {
   "cell_type": "code",
   "execution_count": 4,
   "metadata": {},
   "outputs": [],
   "source": [
    "# define metrics and tests\n",
    "\n",
    "# Keras backend implementations\n",
    "def coef_det_k(y_true, y_pred): # order of variables defined in https://keras.io/backend/\n",
    "    SS_res =  K.sum(K.square(y_true-y_pred))\n",
    "    SS_tot = K.sum(K.square(y_true-K.mean(y_true)))\n",
    "    return 1-SS_res/(SS_tot+K.epsilon())\n",
    "\n",
    "def corr_coef_k(y_true, y_pred):\n",
    "    xm, ym = y_true-K.mean(y_true), y_pred-K.mean(y_pred)\n",
    "    r_num = K.sum(tf.multiply(xm,ym))\n",
    "    r_den = K.sqrt(tf.multiply(K.sum(K.square(xm)), K.sum(K.square(ym))))\n",
    "    return K.maximum(K.minimum(r_num/(r_den+K.epsilon()), 1.0), -1.0)\n",
    "\n",
    "# numpy implementations\n",
    "def mse_np(y_true, y_pred):\n",
    "    return np.mean(np.square(y_true-y_pred))\n",
    "\n",
    "def coef_det_np(y_true, y_pred):\n",
    "    SS_res =  np.sum(np.square(y_true-y_pred))\n",
    "    SS_tot = np.sum(np.square(y_true-np.mean(y_true)))\n",
    "    return 1-SS_res/(SS_tot+1e-7)\n",
    "\n",
    "def corr_coef_np(y_true, y_pred):\n",
    "    return np.corrcoef(y_pred[:,0],y_true[:,0])[0,1]\n",
    "\n",
    "# evaluations on test data \n",
    "def eval_on_test(X_test, Y_test, model, fname='', return_np=False):\n",
    "    loss = model.evaluate(X_test, Y_test, X_test[0].shape[0])\n",
    "    Y_pred = model.predict(X_test)\n",
    "    \n",
    "    x = Y_pred[:,0]\n",
    "    y = Y_test[:,0]\n",
    "    slope, intercept, rvalue, pvalue, stderr = stats.linregress(x,y)\n",
    "    plt.plot(x, y, 'o', label='original data')\n",
    "    plt.plot(x, intercept + slope*x, 'r', label='fitted line')\n",
    "    plt.legend()\n",
    "    plt.title('R2 = {}'.format(loss[1]))\n",
    "    plt.xlabel('Y_pred')\n",
    "    plt.ylabel('Y_true')\n",
    "    if len(fname)>0:\n",
    "        plt.savefig(fname+'.pdf', bbox_inches='tight')\n",
    "    \n",
    "    loss.append(rvalue)\n",
    "    \n",
    "    if return_np:\n",
    "        loss.append(mse_np(Y_test, Y_pred))\n",
    "        loss.append(coef_det_np(Y_test, Y_pred))\n",
    "        loss.append(corr_coef_np(Y_test, Y_pred))\n",
    "    \n",
    "    return loss\n"
   ]
  },
  {
   "cell_type": "code",
   "execution_count": 5,
   "metadata": {},
   "outputs": [],
   "source": [
    "import os\n",
    "#setting default path if interactive mode (run this cell only ONCE if in interactive mode)\n",
    "if is_interactive():\n",
    "    os.chdir(\"../\")\n",
    "    "
   ]
  },
  {
   "cell_type": "code",
   "execution_count": 6,
   "metadata": {},
   "outputs": [],
   "source": [
    "import configparser\n",
    "import sys\n",
    "from os.path import basename\n",
    "\n",
    "#change only THESE\n",
    "model_path = \"./models/THIS_CNN_NN_vals_input.py\"\n",
    "data_path = \"./data/THIS_data.npz\"\n",
    "\n",
    "\n",
    "weights_dir = \"./weights\"\n",
    "results_dir = \"./results\"\n",
    "model_name = os.path.splitext(basename(model_path))[0]\n",
    "weight_path = os.path.join(weights_dir, model_name)\n",
    "csv_logger_path = os.path.join(results_dir, model_name + \"_val_results.csv\")\n",
    "test_results_path = os.path.join(results_dir, model_name + \"_test_results.csv\")\n",
    "\n",
    "for filename in [weight_path, csv_logger_path, test_results_path]:\n",
    "    os.makedirs(os.path.dirname(filename), exist_ok=True)\n",
    "    \n",
    "args = (sys.argv)\n",
    "config_path = \"\"\n",
    "if not is_interactive():\n",
    "    model_path = args[1]\n",
    "    config_path = args[2]\n",
    "    weight_path = args[3]\n",
    "    csv_logger_path = args[4]\n",
    "    test_results_path = args[4] + \"_testset\"\n",
    "    data_path = args[5]\n",
    "    \n",
    "suffix = \"{epoch:03d}-{val_loss:.3f}.hdf5\"\n",
    "weight_model_path = \"{}.{}\".format(weight_path, suffix)\n",
    "\n",
    "\n",
    "#hyperparameters    \n",
    "DROPOUT = 0   # dropout\n",
    "ALPHA = 0.01 # learnrate\n",
    "BETA = 0.01\n",
    "EPOCHS = 2 # epochs\n",
    "MBATCH = 100 # batch size\n",
    "SHUFFLE = True\n",
    "\n",
    "#loading from config \n",
    "if not is_interactive():\n",
    "    config_file = args[2]\n",
    "    config = configparser.ConfigParser()\n",
    "    config.read(config_file)\n",
    "    ALPHA = config.getfloat('main', 'alpha')\n",
    "    DROPOUT = config.getfloat('main', 'dropout')\n",
    "    EPOCHS = config.getint('main', 'epochs')\n",
    "    MBATCH = config.getint('main', 'mbatch')\n",
    "    BETA = config.getfloat('main', 'beta')\n",
    "    SHUFFLE = config.getboolean('main', 'SHUFFLE')\n",
    "\n",
    "#loading model difinitions    \n",
    "model_file = open(model_path, 'r').read()\n",
    "exec(model_file)"
   ]
  },
  {
   "cell_type": "code",
   "execution_count": 7,
   "metadata": {},
   "outputs": [],
   "source": [
    "#loading data\n",
    "X_train, X_test, Y_train, Y_test = load_data(data_path)\n"
   ]
  },
  {
   "cell_type": "code",
   "execution_count": 8,
   "metadata": {},
   "outputs": [
    {
     "name": "stdout",
     "output_type": "stream",
     "text": [
      "Loading model from disk..\n",
      "__________________________________________________________________________________________________\n",
      "Layer (type)                    Output Shape         Param #     Connected to                     \n",
      "==================================================================================================\n",
      "input_2 (InputLayer)            (None, 650, 4)       0                                            \n",
      "__________________________________________________________________________________________________\n",
      "conv1d_6 (Conv1D)               (None, 641, 128)     5248        input_2[0][0]                    \n",
      "__________________________________________________________________________________________________\n",
      "batch_normalization_7 (BatchNor (None, 641, 128)     512         conv1d_6[0][0]                   \n",
      "__________________________________________________________________________________________________\n",
      "dropout_7 (Dropout)             (None, 641, 128)     0           batch_normalization_7[0][0]      \n",
      "__________________________________________________________________________________________________\n",
      "max_pooling1d_6 (MaxPooling1D)  (None, 160, 128)     0           dropout_7[0][0]                  \n",
      "__________________________________________________________________________________________________\n",
      "flatten_2 (Flatten)             (None, 20480)        0           max_pooling1d_6[0][0]            \n",
      "__________________________________________________________________________________________________\n",
      "input_3 (InputLayer)            (None, 69)           0                                            \n",
      "__________________________________________________________________________________________________\n",
      "concatenate_1 (Concatenate)     (None, 20549)        0           flatten_2[0][0]                  \n",
      "                                                                 input_3[0][0]                    \n",
      "__________________________________________________________________________________________________\n",
      "dense_3 (Dense)                 (None, 64)           1315200     concatenate_1[0][0]              \n",
      "__________________________________________________________________________________________________\n",
      "batch_normalization_8 (BatchNor (None, 64)           256         dense_3[0][0]                    \n",
      "__________________________________________________________________________________________________\n",
      "dropout_8 (Dropout)             (None, 64)           0           batch_normalization_8[0][0]      \n",
      "__________________________________________________________________________________________________\n",
      "dense_4 (Dense)                 (None, 1)            65          dropout_8[0][0]                  \n",
      "==================================================================================================\n",
      "Total params: 1,321,281\n",
      "Trainable params: 1,320,897\n",
      "Non-trainable params: 384\n",
      "__________________________________________________________________________________________________\n"
     ]
    }
   ],
   "source": [
    "input_shape = X_train[0].shape[1:3]\n",
    "model = POC_model(input_shape, DROPOUT)\n",
    "model.summary()\n"
   ]
  },
  {
   "cell_type": "code",
   "execution_count": 9,
   "metadata": {},
   "outputs": [],
   "source": [
    "opt = Adam(lr=ALPHA, beta_1=0.9, beta_2=0.999, decay=BETA)\n",
    "model.compile(loss='mse', optimizer=opt, metrics=[coef_det_k, corr_coef_k])\n"
   ]
  },
  {
   "cell_type": "code",
   "execution_count": 10,
   "metadata": {},
   "outputs": [],
   "source": [
    "# Set callbacks\n",
    "# checkpoint\n",
    "# https://machinelearningmastery.com/check-point-deep-learning-models-keras/\n",
    "# https://keras.io/callbacks/ - for now save every epoch\n",
    "\n",
    "checkpoint = ModelCheckpoint(weight_model_path, monitor='val_loss', verbose=0, \n",
    "                             save_best_only=False, save_weights_only=False, mode='auto', period=1)\n",
    "\n",
    "# tensorboard\n",
    "# http://fizzylogic.nl/2017/05/08/monitor-progress-of-your-keras-based-neural-network-using-tensorboard/\n",
    "\n",
    "tensorboard = TrainValTensorBoard(write_graph=False, log_dir='./tensorboard_logs/' + \\\n",
    "                                  basename(data_path) + '_' + basename(csv_logger_path))\n",
    "\n",
    "csv = CSVLogger(csv_logger_path, separator = \",\", append = True)\n",
    "\n",
    "callbacks_list = [checkpoint, tensorboard, csv]\n",
    "\n",
    "# in terminal run: tensorboard --logdir=logs/\n",
    "# val_loss error is in callbacks, probably modelcheckpoint"
   ]
  },
  {
   "cell_type": "code",
   "execution_count": 11,
   "metadata": {},
   "outputs": [
    {
     "name": "stdout",
     "output_type": "stream",
     "text": [
      "Loading weights from ./weights/THIS_CNN_NN_vals_input.002-0.456.hdf5\n"
     ]
    }
   ],
   "source": [
    "#checking if model exist then load best\n",
    "import glob\n",
    "import re\n",
    "\n",
    "def find_best_model(all_models):\n",
    "        epochs = []\n",
    "        losses = []\n",
    "        for i, file in enumerate(all_models):\n",
    "            groups = re.findall(weight_path + '.(.*)-(.*).hdf5', file)\n",
    "            if groups:\n",
    "                epochs.append(int(groups[0][0]))\n",
    "                losses.append(float(groups[0][1]))\n",
    "        return (all_models[np.argmin(losses)] )\n",
    "\n",
    "all_models = [os.path.join(os.path.dirname(weight_path), f) \\\n",
    "              for f in os.listdir(os.path.dirname(weight_path)) \\\n",
    "              if re.match(os.path.basename(weight_path) + '\\.(.*)-(.*).hdf5', f)]\n",
    "\n",
    "\n",
    "if all_models:\n",
    "    best_model = find_best_model(all_models)\n",
    "    print(\"Loading weights from {}\".format(best_model))\n",
    "    model.load_weights(best_model)\n"
   ]
  },
  {
   "cell_type": "code",
   "execution_count": 12,
   "metadata": {},
   "outputs": [
    {
     "name": "stdout",
     "output_type": "stream",
     "text": [
      "Train on 3605 samples, validate on 401 samples\n",
      "Epoch 1/2\n",
      "3605/3605 [==============================] - 17s 5ms/step - loss: 0.2727 - coef_det_k: 0.6542 - corr_coef_k: 0.8297 - val_loss: 0.9566 - val_coef_det_k: -19710.5084 - val_corr_coef_k: 0.6389\n",
      "Epoch 2/2\n",
      "3605/3605 [==============================] - 20s 6ms/step - loss: 0.2211 - coef_det_k: 0.7169 - corr_coef_k: 0.8712 - val_loss: 1.0286 - val_coef_det_k: -15038.2318 - val_corr_coef_k: 0.5221\n"
     ]
    },
    {
     "data": {
      "text/plain": [
       "<keras.callbacks.History at 0x1a18e961d0>"
      ]
     },
     "execution_count": 12,
     "metadata": {},
     "output_type": "execute_result"
    }
   ],
   "source": [
    "# keras model checkpoint KeyError: 'val_loss'\n",
    "# fix: https://github.com/keras-team/keras/issues/6104\n",
    "# must add validation_split=xx\n",
    "\n",
    "model.fit(X_train, Y_train, batch_size=MBATCH, epochs=EPOCHS, validation_split=0.1, shuffle=SHUFFLE, callbacks=callbacks_list)"
   ]
  },
  {
   "cell_type": "code",
   "execution_count": 13,
   "metadata": {},
   "outputs": [
    {
     "name": "stdout",
     "output_type": "stream",
     "text": [
      "446/446 [==============================] - 2s 4ms/step\n"
     ]
    }
   ],
   "source": [
    "# tests data on test set \n",
    "test_loss = eval_on_test(X_test, Y_test, model, fname=test_results_path)\n"
   ]
  },
  {
   "cell_type": "code",
   "execution_count": 14,
   "metadata": {},
   "outputs": [],
   "source": [
    "# Save test results\n",
    "d = {'MSE' : [test_loss[0]],\n",
    "     'coef_determination' : [test_loss[1]], \n",
    "     'corr_coef' : [test_loss[2]],\n",
    "     'corr_coef_plot' : [test_loss[3]]}\n",
    "\n",
    "test_df = pd.DataFrame(data=d)\n",
    "test_df.to_csv(test_results_path, index=False)\n"
   ]
  },
  {
   "cell_type": "code",
   "execution_count": 15,
   "metadata": {},
   "outputs": [],
   "source": [
    "fname = test_results_path"
   ]
  },
  {
   "cell_type": "code",
   "execution_count": 16,
   "metadata": {},
   "outputs": [
    {
     "name": "stdout",
     "output_type": "stream",
     "text": [
      "446/446 [==============================] - 2s 4ms/step\n"
     ]
    }
   ],
   "source": [
    "loss = model.evaluate(X_test, Y_test, X_test[0].shape[0])\n",
    "Y_pred = model.predict(X_test)\n",
    "\n",
    "x = Y_pred[:,0]\n",
    "y = Y_test[:,0]\n",
    "slope, intercept, rvalue, pvalue, stderr = stats.linregress(x,y)\n",
    "plt.plot(x, y, 'o', label='original data')\n",
    "plt.plot(x, intercept + slope*x, 'r', label='fitted line')\n",
    "plt.legend()\n",
    "plt.title('R2 = {}'.format(loss[1]))\n",
    "plt.xlabel('Y_pred')\n",
    "plt.ylabel('Y_true')\n",
    "plt.savefig('test'+'.pdf', bbox_inches='tight')"
   ]
  },
  {
   "cell_type": "code",
   "execution_count": null,
   "metadata": {},
   "outputs": [],
   "source": []
  }
 ],
 "metadata": {
  "kernelspec": {
   "display_name": "Python 3",
   "language": "python",
   "name": "python3"
  },
  "language_info": {
   "codemirror_mode": {
    "name": "ipython",
    "version": 3
   },
   "file_extension": ".py",
   "mimetype": "text/x-python",
   "name": "python",
   "nbconvert_exporter": "python",
   "pygments_lexer": "ipython3",
   "version": "3.6.3"
  }
 },
 "nbformat": 4,
 "nbformat_minor": 2
}
